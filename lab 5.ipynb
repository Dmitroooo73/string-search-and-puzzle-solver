{
 "cells": [
  {
   "cell_type": "markdown",
   "id": "db4b50f0",
   "metadata": {
    "id": "db4b50f0"
   },
   "source": [
    "# Лабораторная работа №5\n",
    "## Выполнил студент группы ФИО ГРУППА"
   ]
  },
  {
   "cell_type": "markdown",
   "id": "annual-symbol",
   "metadata": {
    "id": "annual-symbol"
   },
   "source": [
    "### Оглавление\n",
    "1. [Задание 1](#Задание-№1)\n",
    "2. [Задание 2](#Задание-№2)\n",
    "4. [Вывод](#Вывод)"
   ]
  },
  {
   "cell_type": "markdown",
   "id": "independent-spirit",
   "metadata": {
    "id": "independent-spirit"
   },
   "source": [
    "> Дополнительные модули, использованные при выполнение лабораторной"
   ]
  },
  {
   "cell_type": "code",
   "execution_count": null,
   "id": "4839be2b",
   "metadata": {
    "id": "4839be2b"
   },
   "outputs": [],
   "source": [
    "from datetime import datetime as t\n",
    "from collections import defaultdict\n",
    "from collections import deque\n",
    "import ipywidgets as widgets\n",
    "from IPython.display import display, Markdown"
   ]
  },
  {
   "cell_type": "markdown",
   "id": "inclusive-motorcycle",
   "metadata": {
    "id": "inclusive-motorcycle"
   },
   "source": [
    "### Задание №1\n",
    "Реализовать методы поиска подстроки в строке. Добавить возможность ввода строки и подстроки с клавиатуры. Предусмотреть возможность существования пробела. Реализовать возможность выбора опции чувствительности или нечувствительности к регистру. Оценить время работы каждого алгоритма поиска и сравнить его со временем работы стандартной функции поиска, используемой в выбранном языке программирования."
   ]
  },
  {
   "cell_type": "markdown",
   "id": "interracial-communication",
   "metadata": {
    "id": "interracial-communication"
   },
   "source": [
    "#### Алгоритм Кнута-Морриса-Пратта"
   ]
  },
  {
   "cell_type": "code",
   "execution_count": 1,
   "id": "presidential-level",
   "metadata": {
    "id": "presidential-level"
   },
   "outputs": [
    {
     "data": {
      "application/vnd.jupyter.widget-view+json": {
       "model_id": "1a46efded3ad4e9fb0300f8d29c8bcb5",
       "version_major": 2,
       "version_minor": 0
      },
      "text/plain": [
       "VBox(children=(Textarea(value='', description='Строка', layout=Layout(width='100%')), Text(value='', descripti…"
      ]
     },
     "metadata": {},
     "output_type": "display_data"
    }
   ],
   "source": [
    "from datetime import datetime as t\n",
    "import ipywidgets as widgets\n",
    "from IPython.display import display, clear_output\n",
    "\n",
    "def build_kmp_prefix(pattern):\n",
    "    prefix = [0] * len(pattern)\n",
    "    j = 0\n",
    "    for i in range(1, len(pattern)):\n",
    "        while j > 0 and pattern[i] != pattern[j]:\n",
    "            j = prefix[j - 1]\n",
    "        if pattern[i] == pattern[j]:\n",
    "            j += 1\n",
    "        prefix[i] = j\n",
    "    return prefix\n",
    "\n",
    "def kmp_search(text, pattern, case_sensitive=True):\n",
    "    if not case_sensitive:\n",
    "        text = text.lower()\n",
    "        pattern = pattern.lower()\n",
    "\n",
    "    prefix = build_kmp_prefix(pattern)\n",
    "    result = []\n",
    "    j = 0\n",
    "    for i in range(len(text)):\n",
    "        while j > 0 and text[i] != pattern[j]:\n",
    "            j = prefix[j - 1]\n",
    "        if text[i] == pattern[j]:\n",
    "            j += 1\n",
    "        if j == len(pattern):\n",
    "            result.append(i - j + 1)\n",
    "            j = prefix[j - 1]\n",
    "    return result\n",
    "\n",
    "text_input = widgets.Textarea(description=\"Строка\", layout=widgets.Layout(width='100%'))\n",
    "pattern_input = widgets.Text(description=\"Подстрока\")\n",
    "case_toggle = widgets.Checkbox(value=True, description=\"Учитывать регистр\")\n",
    "run_button = widgets.Button(description=\"Поиск\", button_style='success')\n",
    "output = widgets.Output()\n",
    "\n",
    "def run_search(b):\n",
    "    with output:\n",
    "        clear_output()\n",
    "        text = text_input.value\n",
    "        pattern = pattern_input.value\n",
    "        case = case_toggle.value\n",
    "\n",
    "        if not text or not pattern:\n",
    "            print(\"⚠️ Пожалуйста, введите строку и подстроку.\")\n",
    "            return\n",
    "\n",
    "        start_kmp = t.now()\n",
    "        result_kmp = kmp_search(text, pattern, case_sensitive=case)\n",
    "        duration_kmp = (t.now() - start_kmp).total_seconds()\n",
    "\n",
    "        if not case:\n",
    "            text_proc = text.lower()\n",
    "            pattern_proc = pattern.lower()\n",
    "        else:\n",
    "            text_proc = text\n",
    "            pattern_proc = pattern\n",
    "\n",
    "        start_std = t.now()\n",
    "        result_std = []\n",
    "        pos = text_proc.find(pattern_proc)\n",
    "        while pos != -1:\n",
    "            result_std.append(pos)\n",
    "            pos = text_proc.find(pattern_proc, pos + 1)\n",
    "        duration_std = (t.now() - start_std).total_seconds()\n",
    "\n",
    "        print(\"Результаты KMP:\")\n",
    "        print(\"Найдено в позициях:\", result_kmp)\n",
    "        print(\"Время выполнения:\", f\"{duration_kmp:.8f} сек\\n\")\n",
    "\n",
    "        print(\"Результаты стандартного str.find():\")\n",
    "        print(\"Найдено в позициях:\", result_std)\n",
    "        print(\"Время выполнения:\", f\"{duration_std:.8f} сек\")\n",
    "\n",
    "run_button.on_click(run_search)\n",
    "\n",
    "display(widgets.VBox([text_input, pattern_input, case_toggle, run_button, output]))"
   ]
  },
  {
   "cell_type": "markdown",
   "id": "downtown-option",
   "metadata": {
    "id": "downtown-option"
   },
   "source": [
    "#### Упрощенный алгоритм Бойера-Мура"
   ]
  },
  {
   "cell_type": "code",
   "execution_count": 2,
   "id": "respective-reggae",
   "metadata": {
    "id": "respective-reggae"
   },
   "outputs": [
    {
     "data": {
      "application/vnd.jupyter.widget-view+json": {
       "model_id": "cd220777450a4855947c3f75e84569d6",
       "version_major": 2,
       "version_minor": 0
      },
      "text/plain": [
       "VBox(children=(Textarea(value='', description='Строка', layout=Layout(width='100%')), Text(value='', descripti…"
      ]
     },
     "metadata": {},
     "output_type": "display_data"
    }
   ],
   "source": [
    "from datetime import datetime as t\n",
    "import ipywidgets as widgets\n",
    "from IPython.display import display, clear_output\n",
    "from collections import defaultdict\n",
    "\n",
    "def build_bad_char_table(pattern):\n",
    "    table = defaultdict(lambda: -1)\n",
    "    for i, char in enumerate(pattern):\n",
    "        table[char] = i\n",
    "    return table\n",
    "\n",
    "def boyer_moore_search(text, pattern, case_sensitive=True):\n",
    "    if not case_sensitive:\n",
    "        text = text.lower()\n",
    "        pattern = pattern.lower()\n",
    "\n",
    "    m = len(pattern)\n",
    "    n = len(text)\n",
    "    if m == 0:\n",
    "        return []\n",
    "\n",
    "    table = build_bad_char_table(pattern)\n",
    "    result = []\n",
    "\n",
    "    s = 0\n",
    "    while s <= n - m:\n",
    "        j = m - 1\n",
    "        while j >= 0 and pattern[j] == text[s + j]:\n",
    "            j -= 1\n",
    "        if j < 0:\n",
    "            result.append(s)\n",
    "            s += m if s + m < n else 1\n",
    "        else:\n",
    "            shift = max(1, j - table[text[s + j]])\n",
    "            s += shift\n",
    "    return result\n",
    "\n",
    "text_input_bm = widgets.Textarea(description=\"Строка\", layout=widgets.Layout(width='100%'))\n",
    "pattern_input_bm = widgets.Text(description=\"Подстрока\")\n",
    "case_toggle_bm = widgets.Checkbox(value=True, description=\"Учитывать регистр\")\n",
    "run_button_bm = widgets.Button(description=\"Поиск BM\", button_style='info')\n",
    "output_bm = widgets.Output()\n",
    "\n",
    "def run_bm_search(b):\n",
    "    with output_bm:\n",
    "        clear_output()\n",
    "        text = text_input_bm.value\n",
    "        pattern = pattern_input_bm.value\n",
    "        case = case_toggle_bm.value\n",
    "        start_bm = t.now()\n",
    "        result_bm = boyer_moore_search(text, pattern, case_sensitive=case)\n",
    "        duration_bm = (t.now() - start_bm).total_seconds()\n",
    "\n",
    "        start_std = t.now()\n",
    "        result_std = []\n",
    "        i = text.find(pattern) if case else text.lower().find(pattern.lower())\n",
    "        while i != -1:\n",
    "            result_std.append(i)\n",
    "            i = text.find(pattern, i + 1) if case else text.lower().find(pattern.lower(), i + 1)\n",
    "        duration_std = (t.now() - start_std).total_seconds()\n",
    "\n",
    "        print(\"Результаты Бойера-Мура:\")\n",
    "        print(\"Найдено в позициях:\", result_bm)\n",
    "        print(\"Время выполнения BM:\", duration_bm, \"сек\")\n",
    "        print(\"Результаты стандартной функции поиска:\")\n",
    "        print(\"Найдено в позициях:\", result_std)\n",
    "        print(\"Время выполнения стандартной:\", duration_std, \"сек\")\n",
    "\n",
    "run_button_bm.on_click(run_bm_search)\n",
    "\n",
    "display(widgets.VBox([text_input_bm, pattern_input_bm, case_toggle_bm, run_button_bm, output_bm]))"
   ]
  },
  {
   "cell_type": "markdown",
   "id": "hybrid-memorial",
   "metadata": {
    "id": "hybrid-memorial"
   },
   "source": [
    "### Задание №2\n",
    "Написать программу, определяющую, является ли данное\n",
    "расположение «решаемым», то есть можно ли из него за конечное число\n",
    "шагов перейти к правильному. Если это возможно, то необходимо найти хотя\n",
    "бы одно решение - последовательность движений, после которой числа будут\n",
    "расположены в правильном порядке.\n",
    "#### Входные данные: массив чисел, представляющий собой расстановку в\n",
    "Порядке «слева направо, сверху вниз». Число 0 обозначает пустое поле.\n",
    "Например, массив [1, 2, 3, 4, 5, 6, 7, 8, 9, 10, 11, 12, 13, 14, 15, 0] представляет\n",
    "собой «решенную» позицию элементов.\n",
    "#### Выходные данные: если решения нет, то функция должна вернуть\n",
    "Пустой массив []. Если решение есть, то необходимо представить решение —\n",
    "для каждого шага записывается номер передвигаемого на данном шаге\n",
    "элемента. "
   ]
  },
  {
   "cell_type": "code",
   "execution_count": 3,
   "id": "eleven-generic",
   "metadata": {
    "id": "eleven-generic"
   },
   "outputs": [
    {
     "data": {
      "application/vnd.jupyter.widget-view+json": {
       "model_id": "04a0846f2f504abaaa7af97dd2a58549",
       "version_major": 2,
       "version_minor": 0
      },
      "text/plain": [
       "VBox(children=(Text(value='1,2,3,4,5,6,7,8,9,10,11,12,13,0,14,15', description='Ввод:', layout=Layout(width='1…"
      ]
     },
     "metadata": {},
     "output_type": "display_data"
    }
   ],
   "source": [
    "from collections import deque\n",
    "import ipywidgets as widgets\n",
    "from IPython.display import display, clear_output\n",
    "\n",
    "def is_solvable(puzzle):\n",
    "    inv_count = 0\n",
    "    for i in range(15):\n",
    "        for j in range(i + 1, 16):\n",
    "            if puzzle[i] != 0 and puzzle[j] != 0 and puzzle[i] > puzzle[j]:\n",
    "                inv_count += 1\n",
    "    zero_row = 3 - (puzzle.index(0) // 4) \n",
    "    return (inv_count + zero_row) % 2 == 0\n",
    "\n",
    "def get_neighbors(state):\n",
    "    moves = []\n",
    "    zero = state.index(0)\n",
    "    row, col = zero // 4, zero % 4\n",
    "    directions = [(-1, 0), (1, 0), (0, -1), (0, 1)] \n",
    "    for dr, dc in directions:\n",
    "        nr, nc = row + dr, col + dc\n",
    "        if 0 <= nr < 4 and 0 <= nc < 4:\n",
    "            new_pos = nr * 4 + nc\n",
    "            new_state = list(state)\n",
    "            new_state[zero], new_state[new_pos] = new_state[new_pos], new_state[zero]\n",
    "            moves.append((tuple(new_state), new_state[zero]))\n",
    "    return moves\n",
    "\n",
    "def solve_puzzle(start):\n",
    "    if not is_solvable(start):\n",
    "        return []\n",
    "\n",
    "    goal = tuple(range(1, 16)) + (0,)\n",
    "    queue = deque()\n",
    "    visited = set()\n",
    "    parent = {}\n",
    "    move = {}\n",
    "\n",
    "    queue.append(tuple(start))\n",
    "    visited.add(tuple(start))\n",
    "\n",
    "    while queue:\n",
    "        current = queue.popleft()\n",
    "        if current == goal:\n",
    "            path = []\n",
    "            while current in move:\n",
    "                path.append(move[current])\n",
    "                current = parent[current]\n",
    "            return path[::-1]  \n",
    "        for neighbor, moved_tile in get_neighbors(current):\n",
    "            if neighbor not in visited:\n",
    "                visited.add(neighbor)\n",
    "                parent[neighbor] = current\n",
    "                move[neighbor] = moved_tile\n",
    "                queue.append(neighbor)\n",
    "    return []\n",
    "\n",
    "input_text = widgets.Text(\n",
    "    value='1,2,3,4,5,6,7,8,9,10,11,12,13,0,14,15',\n",
    "    description='Ввод:',\n",
    "    layout=widgets.Layout(width='100%')\n",
    ")\n",
    "run_button = widgets.Button(description=\"Решить\", button_style='success')\n",
    "output = widgets.Output()\n",
    "\n",
    "def run_solver(b):\n",
    "    with output:\n",
    "        clear_output()\n",
    "        try:\n",
    "            numbers = list(map(int, input_text.value.strip().split(',')))\n",
    "            if len(numbers) != 16 or set(numbers) != set(range(16)):\n",
    "                print(\"Ошибка: введите 16 уникальных чисел от 0 до 15.\")\n",
    "                return\n",
    "            result = solve_puzzle(numbers)\n",
    "            if result:\n",
    "                print(\"Позиция решаема.\")\n",
    "                print(\"Последовательность перемещений:\", result)\n",
    "                print(\"Количество шагов:\", len(result))\n",
    "            else:\n",
    "                print(\"Позиция не решаема.\")\n",
    "        except Exception as e:\n",
    "            print(\"Ошибка:\", e)\n",
    "\n",
    "run_button.on_click(run_solver)\n",
    "\n",
    "display(widgets.VBox([input_text, run_button, output]))"
   ]
  },
  {
   "cell_type": "markdown",
   "id": "arbitrary-amazon",
   "metadata": {
    "id": "arbitrary-amazon"
   },
   "source": [
    "### Вывод"
   ]
  },
  {
   "cell_type": "markdown",
   "id": "71bc58bf",
   "metadata": {
    "id": "71bc58bf"
   },
   "source": []
  }
 ],
 "metadata": {
  "colab": {
   "provenance": []
  },
  "kernelspec": {
   "display_name": ".venv",
   "language": "python",
   "name": "python3"
  },
  "language_info": {
   "codemirror_mode": {
    "name": "ipython",
    "version": 3
   },
   "file_extension": ".py",
   "mimetype": "text/x-python",
   "name": "python",
   "nbconvert_exporter": "python",
   "pygments_lexer": "ipython3",
   "version": "3.12.10"
  }
 },
 "nbformat": 4,
 "nbformat_minor": 5
}
